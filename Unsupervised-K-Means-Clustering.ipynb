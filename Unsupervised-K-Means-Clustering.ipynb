{
 "cells": [
  {
   "cell_type": "markdown",
   "metadata": {},
   "source": [
    "# K-Means Clustering"
   ]
  },
  {
   "cell_type": "code",
   "execution_count": 1,
   "metadata": {},
   "outputs": [],
   "source": [
    "import numpy as np\n",
    "import pandas as pd\n",
    "from sklearn import datasets\n",
    "import matplotlib.pyplot as plt"
   ]
  },
  {
   "cell_type": "markdown",
   "metadata": {},
   "source": [
    "We will work on Iris Dataset from sklearn package.\n",
    "\n",
    "The Iris dataset consists of measurements of sepals and petals of 3 different plant species:\n",
    "\n",
    "1. Iris setosa\n",
    "2. Iris versicolor\n",
    "3. Iris virginica"
   ]
  },
  {
   "cell_type": "markdown",
   "metadata": {},
   "source": [
    "Each characteristic we are interested in is a feature. \n",
    "\n",
    "For example, petal length is a feature of this dataset.\n",
    "\n",
    "The features of the dataset are:\n",
    "\n",
    "1. Column 0: Sepal length\n",
    "2. Column 1: Sepal width\n",
    "3. Column 2: Petal length\n",
    "4. Column 3: Petal width\n",
    "\n",
    "Now will load the dataset"
   ]
  },
  {
   "cell_type": "code",
   "execution_count": 2,
   "metadata": {},
   "outputs": [
    {
     "name": "stdout",
     "output_type": "stream",
     "text": [
      "[[5.1 3.5 1.4 0.2]\n",
      " [4.9 3.  1.4 0.2]\n",
      " [4.7 3.2 1.3 0.2]\n",
      " [4.6 3.1 1.5 0.2]\n",
      " [5.  3.6 1.4 0.2]\n",
      " [5.4 3.9 1.7 0.4]\n",
      " [4.6 3.4 1.4 0.3]\n",
      " [5.  3.4 1.5 0.2]\n",
      " [4.4 2.9 1.4 0.2]\n",
      " [4.9 3.1 1.5 0.1]\n",
      " [5.4 3.7 1.5 0.2]\n",
      " [4.8 3.4 1.6 0.2]\n",
      " [4.8 3.  1.4 0.1]\n",
      " [4.3 3.  1.1 0.1]\n",
      " [5.8 4.  1.2 0.2]\n",
      " [5.7 4.4 1.5 0.4]\n",
      " [5.4 3.9 1.3 0.4]\n",
      " [5.1 3.5 1.4 0.3]\n",
      " [5.7 3.8 1.7 0.3]\n",
      " [5.1 3.8 1.5 0.3]\n",
      " [5.4 3.4 1.7 0.2]\n",
      " [5.1 3.7 1.5 0.4]\n",
      " [4.6 3.6 1.  0.2]\n",
      " [5.1 3.3 1.7 0.5]\n",
      " [4.8 3.4 1.9 0.2]\n",
      " [5.  3.  1.6 0.2]\n",
      " [5.  3.4 1.6 0.4]\n",
      " [5.2 3.5 1.5 0.2]\n",
      " [5.2 3.4 1.4 0.2]\n",
      " [4.7 3.2 1.6 0.2]\n",
      " [4.8 3.1 1.6 0.2]\n",
      " [5.4 3.4 1.5 0.4]\n",
      " [5.2 4.1 1.5 0.1]\n",
      " [5.5 4.2 1.4 0.2]\n",
      " [4.9 3.1 1.5 0.2]\n",
      " [5.  3.2 1.2 0.2]\n",
      " [5.5 3.5 1.3 0.2]\n",
      " [4.9 3.6 1.4 0.1]\n",
      " [4.4 3.  1.3 0.2]\n",
      " [5.1 3.4 1.5 0.2]\n",
      " [5.  3.5 1.3 0.3]\n",
      " [4.5 2.3 1.3 0.3]\n",
      " [4.4 3.2 1.3 0.2]\n",
      " [5.  3.5 1.6 0.6]\n",
      " [5.1 3.8 1.9 0.4]\n",
      " [4.8 3.  1.4 0.3]\n",
      " [5.1 3.8 1.6 0.2]\n",
      " [4.6 3.2 1.4 0.2]\n",
      " [5.3 3.7 1.5 0.2]\n",
      " [5.  3.3 1.4 0.2]\n",
      " [7.  3.2 4.7 1.4]\n",
      " [6.4 3.2 4.5 1.5]\n",
      " [6.9 3.1 4.9 1.5]\n",
      " [5.5 2.3 4.  1.3]\n",
      " [6.5 2.8 4.6 1.5]\n",
      " [5.7 2.8 4.5 1.3]\n",
      " [6.3 3.3 4.7 1.6]\n",
      " [4.9 2.4 3.3 1. ]\n",
      " [6.6 2.9 4.6 1.3]\n",
      " [5.2 2.7 3.9 1.4]\n",
      " [5.  2.  3.5 1. ]\n",
      " [5.9 3.  4.2 1.5]\n",
      " [6.  2.2 4.  1. ]\n",
      " [6.1 2.9 4.7 1.4]\n",
      " [5.6 2.9 3.6 1.3]\n",
      " [6.7 3.1 4.4 1.4]\n",
      " [5.6 3.  4.5 1.5]\n",
      " [5.8 2.7 4.1 1. ]\n",
      " [6.2 2.2 4.5 1.5]\n",
      " [5.6 2.5 3.9 1.1]\n",
      " [5.9 3.2 4.8 1.8]\n",
      " [6.1 2.8 4.  1.3]\n",
      " [6.3 2.5 4.9 1.5]\n",
      " [6.1 2.8 4.7 1.2]\n",
      " [6.4 2.9 4.3 1.3]\n",
      " [6.6 3.  4.4 1.4]\n",
      " [6.8 2.8 4.8 1.4]\n",
      " [6.7 3.  5.  1.7]\n",
      " [6.  2.9 4.5 1.5]\n",
      " [5.7 2.6 3.5 1. ]\n",
      " [5.5 2.4 3.8 1.1]\n",
      " [5.5 2.4 3.7 1. ]\n",
      " [5.8 2.7 3.9 1.2]\n",
      " [6.  2.7 5.1 1.6]\n",
      " [5.4 3.  4.5 1.5]\n",
      " [6.  3.4 4.5 1.6]\n",
      " [6.7 3.1 4.7 1.5]\n",
      " [6.3 2.3 4.4 1.3]\n",
      " [5.6 3.  4.1 1.3]\n",
      " [5.5 2.5 4.  1.3]\n",
      " [5.5 2.6 4.4 1.2]\n",
      " [6.1 3.  4.6 1.4]\n",
      " [5.8 2.6 4.  1.2]\n",
      " [5.  2.3 3.3 1. ]\n",
      " [5.6 2.7 4.2 1.3]\n",
      " [5.7 3.  4.2 1.2]\n",
      " [5.7 2.9 4.2 1.3]\n",
      " [6.2 2.9 4.3 1.3]\n",
      " [5.1 2.5 3.  1.1]\n",
      " [5.7 2.8 4.1 1.3]\n",
      " [6.3 3.3 6.  2.5]\n",
      " [5.8 2.7 5.1 1.9]\n",
      " [7.1 3.  5.9 2.1]\n",
      " [6.3 2.9 5.6 1.8]\n",
      " [6.5 3.  5.8 2.2]\n",
      " [7.6 3.  6.6 2.1]\n",
      " [4.9 2.5 4.5 1.7]\n",
      " [7.3 2.9 6.3 1.8]\n",
      " [6.7 2.5 5.8 1.8]\n",
      " [7.2 3.6 6.1 2.5]\n",
      " [6.5 3.2 5.1 2. ]\n",
      " [6.4 2.7 5.3 1.9]\n",
      " [6.8 3.  5.5 2.1]\n",
      " [5.7 2.5 5.  2. ]\n",
      " [5.8 2.8 5.1 2.4]\n",
      " [6.4 3.2 5.3 2.3]\n",
      " [6.5 3.  5.5 1.8]\n",
      " [7.7 3.8 6.7 2.2]\n",
      " [7.7 2.6 6.9 2.3]\n",
      " [6.  2.2 5.  1.5]\n",
      " [6.9 3.2 5.7 2.3]\n",
      " [5.6 2.8 4.9 2. ]\n",
      " [7.7 2.8 6.7 2. ]\n",
      " [6.3 2.7 4.9 1.8]\n",
      " [6.7 3.3 5.7 2.1]\n",
      " [7.2 3.2 6.  1.8]\n",
      " [6.2 2.8 4.8 1.8]\n",
      " [6.1 3.  4.9 1.8]\n",
      " [6.4 2.8 5.6 2.1]\n",
      " [7.2 3.  5.8 1.6]\n",
      " [7.4 2.8 6.1 1.9]\n",
      " [7.9 3.8 6.4 2. ]\n",
      " [6.4 2.8 5.6 2.2]\n",
      " [6.3 2.8 5.1 1.5]\n",
      " [6.1 2.6 5.6 1.4]\n",
      " [7.7 3.  6.1 2.3]\n",
      " [6.3 3.4 5.6 2.4]\n",
      " [6.4 3.1 5.5 1.8]\n",
      " [6.  3.  4.8 1.8]\n",
      " [6.9 3.1 5.4 2.1]\n",
      " [6.7 3.1 5.6 2.4]\n",
      " [6.9 3.1 5.1 2.3]\n",
      " [5.8 2.7 5.1 1.9]\n",
      " [6.8 3.2 5.9 2.3]\n",
      " [6.7 3.3 5.7 2.5]\n",
      " [6.7 3.  5.2 2.3]\n",
      " [6.3 2.5 5.  1.9]\n",
      " [6.5 3.  5.2 2. ]\n",
      " [6.2 3.4 5.4 2.3]\n",
      " [5.9 3.  5.1 1.8]]\n"
     ]
    }
   ],
   "source": [
    "#Load Data and print\n",
    "iris = datasets.load_iris()\n",
    "\n",
    "print(iris.data)"
   ]
  },
  {
   "cell_type": "code",
   "execution_count": 3,
   "metadata": {},
   "outputs": [
    {
     "name": "stdout",
     "output_type": "stream",
     "text": [
      "[0 0 0 0 0 0 0 0 0 0 0 0 0 0 0 0 0 0 0 0 0 0 0 0 0 0 0 0 0 0 0 0 0 0 0 0 0\n",
      " 0 0 0 0 0 0 0 0 0 0 0 0 0 1 1 1 1 1 1 1 1 1 1 1 1 1 1 1 1 1 1 1 1 1 1 1 1\n",
      " 1 1 1 1 1 1 1 1 1 1 1 1 1 1 1 1 1 1 1 1 1 1 1 1 1 1 2 2 2 2 2 2 2 2 2 2 2\n",
      " 2 2 2 2 2 2 2 2 2 2 2 2 2 2 2 2 2 2 2 2 2 2 2 2 2 2 2 2 2 2 2 2 2 2 2 2 2\n",
      " 2 2]\n"
     ]
    }
   ],
   "source": [
    "#The iris.target values give the ground truth for the Iris dataset. \n",
    "#Ground truth, in this case, is the number corresponding to the flower that we are trying to learn.\n",
    "# take a look at the target values\n",
    "print(iris.target)"
   ]
  },
  {
   "cell_type": "code",
   "execution_count": 4,
   "metadata": {},
   "outputs": [
    {
     "name": "stdout",
     "output_type": "stream",
     "text": [
      ".. _iris_dataset:\n",
      "\n",
      "Iris plants dataset\n",
      "--------------------\n",
      "\n",
      "**Data Set Characteristics:**\n",
      "\n",
      "    :Number of Instances: 150 (50 in each of three classes)\n",
      "    :Number of Attributes: 4 numeric, predictive attributes and the class\n",
      "    :Attribute Information:\n",
      "        - sepal length in cm\n",
      "        - sepal width in cm\n",
      "        - petal length in cm\n",
      "        - petal width in cm\n",
      "        - class:\n",
      "                - Iris-Setosa\n",
      "                - Iris-Versicolour\n",
      "                - Iris-Virginica\n",
      "                \n",
      "    :Summary Statistics:\n",
      "\n",
      "    ============== ==== ==== ======= ===== ====================\n",
      "                    Min  Max   Mean    SD   Class Correlation\n",
      "    ============== ==== ==== ======= ===== ====================\n",
      "    sepal length:   4.3  7.9   5.84   0.83    0.7826\n",
      "    sepal width:    2.0  4.4   3.05   0.43   -0.4194\n",
      "    petal length:   1.0  6.9   3.76   1.76    0.9490  (high!)\n",
      "    petal width:    0.1  2.5   1.20   0.76    0.9565  (high!)\n",
      "    ============== ==== ==== ======= ===== ====================\n",
      "\n",
      "    :Missing Attribute Values: None\n",
      "    :Class Distribution: 33.3% for each of 3 classes.\n",
      "    :Creator: R.A. Fisher\n",
      "    :Donor: Michael Marshall (MARSHALL%PLU@io.arc.nasa.gov)\n",
      "    :Date: July, 1988\n",
      "\n",
      "The famous Iris database, first used by Sir R.A. Fisher. The dataset is taken\n",
      "from Fisher's paper. Note that it's the same as in R, but not as in the UCI\n",
      "Machine Learning Repository, which has two wrong data points.\n",
      "\n",
      "This is perhaps the best known database to be found in the\n",
      "pattern recognition literature.  Fisher's paper is a classic in the field and\n",
      "is referenced frequently to this day.  (See Duda & Hart, for example.)  The\n",
      "data set contains 3 classes of 50 instances each, where each class refers to a\n",
      "type of iris plant.  One class is linearly separable from the other 2; the\n",
      "latter are NOT linearly separable from each other.\n",
      "\n",
      ".. topic:: References\n",
      "\n",
      "   - Fisher, R.A. \"The use of multiple measurements in taxonomic problems\"\n",
      "     Annual Eugenics, 7, Part II, 179-188 (1936); also in \"Contributions to\n",
      "     Mathematical Statistics\" (John Wiley, NY, 1950).\n",
      "   - Duda, R.O., & Hart, P.E. (1973) Pattern Classification and Scene Analysis.\n",
      "     (Q327.D83) John Wiley & Sons.  ISBN 0-471-22361-1.  See page 218.\n",
      "   - Dasarathy, B.V. (1980) \"Nosing Around the Neighborhood: A New System\n",
      "     Structure and Classification Rule for Recognition in Partially Exposed\n",
      "     Environments\".  IEEE Transactions on Pattern Analysis and Machine\n",
      "     Intelligence, Vol. PAMI-2, No. 1, 67-71.\n",
      "   - Gates, G.W. (1972) \"The Reduced Nearest Neighbor Rule\".  IEEE Transactions\n",
      "     on Information Theory, May 1972, 431-433.\n",
      "   - See also: 1988 MLC Proceedings, 54-64.  Cheeseman et al\"s AUTOCLASS II\n",
      "     conceptual clustering system finds 3 classes in the data.\n",
      "   - Many, many more ...\n"
     ]
    }
   ],
   "source": [
    "#Read the description of the data\n",
    "print(iris.DESCR)"
   ]
  },
  {
   "cell_type": "code",
   "execution_count": 6,
   "metadata": {},
   "outputs": [
    {
     "data": {
      "image/png": "[encoded data removed]",
      "text/plain": [
       "<Figure size 432x288 with 1 Axes>"
      ]
     },
     "metadata": {
      "needs_background": "light"
     },
     "output_type": "display_data"
    }
   ],
   "source": [
    "#Next step is to visualize the data\n",
    "# we create a 2D scatterplot using two of its features sepal length(col 0) Vs petal length(col2)\n",
    "# add alpha=0.5 - It makes some points look darker than others. The darker spots is where there is an overlap.\n",
    "\n",
    "samples = iris.data\n",
    "\n",
    "# x contains all the sepal length and y contains the sepal width\n",
    "x = samples[: , 0]\n",
    "y = samples[: , 1]\n",
    " \n",
    "plt.scatter(x, y, alpha=0.5)\n",
    " \n",
    "plt.xlabel('sepal length (cm)')\n",
    "plt.ylabel('sepal width (cm)')\n",
    " \n",
    "plt.show()"
   ]
  },
  {
   "cell_type": "markdown",
   "metadata": {},
   "source": [
    "# What is K-Means\n",
    "\n",
    "The K-Means algorithm:\n",
    "\n",
    "1. Place k random centroids for the initial clusters.\n",
    "2. Assign data samples to the nearest centroid.\n",
    "3. Update centroids based on the above-assigned data samples.\n",
    "\n",
    " & Repeat Steps 2 and 3 until convergence."
   ]
  },
  {
   "cell_type": "markdown",
   "metadata": {},
   "source": [
    "As there are three clusters for 3 -species of teh flower, let’s implement K-Means where the k is 3.\n",
    "\n",
    "Using the NumPy library, we will create three random initial centroids and plot them along with our samples."
   ]
  },
  {
   "cell_type": "code",
   "execution_count": 8,
   "metadata": {},
   "outputs": [
    {
     "name": "stdout",
     "output_type": "stream",
     "text": [
      "[[6.02850566 2.00730539]\n",
      " [6.37825647 2.58635015]\n",
      " [5.73210421 3.38489782]]\n"
     ]
    },
    {
     "data": {
      "image/png": "[encoded data removed]",
      "text/plain": [
       "<Figure size 432x288 with 1 Axes>"
      ]
     },
     "metadata": {
      "needs_background": "light"
     },
     "output_type": "display_data"
    }
   ],
   "source": [
    "# Use k=3\n",
    "\n",
    "k = 3\n",
    " \n",
    "centroids_x = np.random.uniform(min(x), max(x), size=k)\n",
    "centroids_y = np.random.uniform(min(y), max(y), size=k)\n",
    " \n",
    "centroids = np.array(list(zip(centroids_x, centroids_y)))\n",
    "print(centroids)\n",
    " \n",
    "plt.scatter(x, y, alpha=0.5)\n",
    "plt.scatter(centroids_x, centroids_y)\n",
    " \n",
    "plt.xlabel('sepal length (cm)')\n",
    "plt.ylabel('sepal width (cm)')\n",
    " \n",
    "plt.show()"
   ]
  },
  {
   "cell_type": "code",
   "execution_count": 10,
   "metadata": {},
   "outputs": [
    {
     "name": "stdout",
     "output_type": "stream",
     "text": [
      "[2. 2. 2. 2. 2. 2. 2. 2. 2. 2. 2. 2. 2. 2. 2. 2. 2. 2. 2. 2. 2. 2. 2. 2.\n",
      " 2. 2. 2. 2. 2. 2. 2. 2. 2. 2. 2. 2. 2. 2. 2. 2. 2. 0. 2. 2. 2. 2. 2. 2.\n",
      " 2. 2. 1. 1. 1. 0. 1. 2. 2. 0. 1. 2. 0. 2. 0. 1. 2. 1. 2. 1. 0. 0. 2. 1.\n",
      " 1. 1. 1. 1. 1. 1. 1. 0. 0. 0. 1. 1. 2. 2. 1. 1. 2. 0. 0. 1. 1. 0. 2. 2.\n",
      " 2. 1. 0. 2. 2. 1. 1. 1. 1. 1. 2. 1. 1. 1. 1. 1. 1. 0. 2. 1. 1. 1. 1. 0.\n",
      " 1. 2. 1. 1. 1. 1. 1. 1. 1. 1. 1. 1. 1. 1. 1. 1. 2. 1. 2. 1. 1. 1. 1. 1.\n",
      " 1. 1. 1. 1. 2. 2.]\n"
     ]
    }
   ],
   "source": [
    "# assign data samples to the nearest centroid\n",
    "# here we will using the distance formula, iterate through the data samples,\n",
    "#then calculate the distance of each datapoint to each of the three centroids\n",
    "# in addition to that we use argmin(distances), that would return index of the lowest distance\n",
    "\n",
    "x = samples[:,0]\n",
    "y = samples[:,1]\n",
    "\n",
    "sepal_length_width = np.array(list(zip(x, y)))\n",
    "\n",
    "def distance(a, b):\n",
    "    one = (a[0] - b[0]) ** 2\n",
    "    two = (a[1] - b[1]) ** 2\n",
    "    distance = (one+two) ** 0.5\n",
    "    return distance\n",
    "    \n",
    "# create an array using numpy called labels of the size of samples and another array distances of the size k\n",
    "\n",
    "# cluster label for each point\n",
    "labels = np.zeros(len(samples))\n",
    "\n",
    "# Distances to each centroid\n",
    "distances = np.zeros(k)\n",
    "\n",
    "# We iterate through each data in the sample\n",
    "\n",
    "for i in range(len(samples)):\n",
    "    distances[0] = distance(sepal_length_width[i], centroids[0])\n",
    "    distances[1] = distance(sepal_length_width[i], centroids[1])\n",
    "    distances[2] = distance(sepal_length_width[i], centroids[2])\n",
    "    cluster = np.argmin(distances) # minimum of the three distances\n",
    "    labels[i] = cluster\n",
    "\n",
    "# print the labels\n",
    "print(labels)"
   ]
  },
  {
   "cell_type": "code",
   "execution_count": 14,
   "metadata": {},
   "outputs": [
    {
     "name": "stdout",
     "output_type": "stream",
     "text": [
      "[[6.02850566 2.00730539]\n",
      " [6.37825647 2.58635015]\n",
      " [5.73210421 3.38489782]]\n",
      "[[5.45       2.36875   ]\n",
      " [6.61269841 2.94761905]\n",
      " [5.24929577 3.30985915]]\n"
     ]
    }
   ],
   "source": [
    "# Update centroids based on the above-assigned data samples.\n",
    "from copy import deepcopy\n",
    "# save the old centroids before updating\n",
    "\n",
    "centroids_old = deepcopy(centroids)\n",
    "\n",
    "# create a for loop that iterates k times, we can calculate the mean of the points that have the same cluster label.\n",
    "# create an array named points where we get all the data points that have the cluster label i.\n",
    "\n",
    "#A deep copy constructs a new compound object and then, recursively, inserts copies into it of the objects found in the original.\n",
    "\n",
    "for i in range(k):\n",
    "    points = []\n",
    "    for j in range(len(sepal_length_width)):\n",
    "        if labels[j] == i:\n",
    "            points.append(sepal_length_width[j])\n",
    "    centroids[i] = np.mean(points, axis=0)\n",
    "\n",
    "print(centroids_old)\n",
    "print(centroids)\n"
   ]
  },
  {
   "cell_type": "code",
   "execution_count": 15,
   "metadata": {},
   "outputs": [
    {
     "data": {
      "image/png": "[encoded data removed]",
      "text/plain": [
       "<Figure size 432x288 with 1 Axes>"
      ]
     },
     "metadata": {
      "needs_background": "light"
     },
     "output_type": "display_data"
    }
   ],
   "source": [
    "# Now we iterate till the centroids stabilize\n",
    "#step1 - we create an array error\n",
    "error = np.zeros(3)\n",
    "\n",
    "error = np.zeros(3)\n",
    "error[0] = distance(centroids[0], centroids_old[0])\n",
    "error[1] = distance(centroids[1], centroids_old[1])\n",
    "error[2] = distance(centroids[2], centroids_old[2])\n",
    "\n",
    "while error.all() != 0:\n",
    " \n",
    "  # Step 2: Assign samples to nearest centroid\n",
    " \n",
    "  for i in range(len(samples)):\n",
    "    distances[0] = distance(sepal_length_width[i], centroids[0])\n",
    "    distances[1] = distance(sepal_length_width[i], centroids[1])\n",
    "    distances[2] = distance(sepal_length_width[i], centroids[2])\n",
    "    cluster = np.argmin(distances)\n",
    "    labels[i] = cluster\n",
    " \n",
    "  # Step 3: Update centroids\n",
    " \n",
    "  centroids_old = deepcopy(centroids)\n",
    " \n",
    "  for i in range(3):\n",
    "    points = [sepal_length_width[j] for j in range(len(sepal_length_width)) if labels[j] == i]\n",
    "    centroids[i] = np.mean(points, axis=0)\n",
    " \n",
    "  # Add this again:\n",
    " \n",
    "  error[0] = distance(centroids[0], centroids_old[0])\n",
    "  error[1] = distance(centroids[1], centroids_old[1])\n",
    "  error[2] = distance(centroids[2], centroids_old[2])\n",
    "\n",
    "colors = ['r', 'g', 'b']\n",
    " \n",
    "for i in range(k):\n",
    "  points = np.array([sepal_length_width[j] for j in range(len(samples)) if labels[j] == i])\n",
    "  plt.scatter(points[:, 0], points[:, 1], c=colors[i], alpha=0.5)\n",
    "\n",
    "  plt.scatter(centroids[:, 0], centroids[:, 1], marker='D', s=150)\n",
    " \n",
    "plt.xlabel('sepal length (cm)')\n",
    "plt.ylabel('sepal width (cm)')\n",
    " \n",
    "plt.show()\n",
    "\n",
    "\n",
    "\n",
    "\n",
    "\n",
    "\n",
    "\n",
    "\n",
    "\n"
   ]
  },
  {
   "cell_type": "code",
   "execution_count": 16,
   "metadata": {},
   "outputs": [
    {
     "name": "stdout",
     "output_type": "stream",
     "text": [
      "[1 1 1 1 1 1 1 1 1 1 1 1 1 1 1 1 1 1 1 1 1 1 1 1 1 1 1 1 1 1 1 1 1 1 1 1 1\n",
      " 1 1 1 1 1 1 1 1 1 1 1 1 1 0 0 2 0 0 0 0 0 0 0 0 0 0 0 0 0 0 0 0 0 0 0 0 0\n",
      " 0 0 0 2 0 0 0 0 0 0 0 0 0 0 0 0 0 0 0 0 0 0 0 0 0 0 2 0 2 2 2 2 0 2 2 2 2\n",
      " 2 2 0 0 2 2 2 2 0 2 0 2 0 2 2 0 0 2 2 2 2 2 0 2 2 2 2 0 2 2 2 0 2 2 2 0 2\n",
      " 2 0]\n"
     ]
    }
   ],
   "source": [
    "#K-means using scikit learn\n",
    "from sklearn.cluster import KMeans\n",
    "\n",
    " \n",
    "iris = datasets.load_iris()\n",
    " \n",
    "samples = iris.data\n",
    " \n",
    "model = KMeans(n_clusters=3)\n",
    " \n",
    "model.fit(samples)\n",
    " \n",
    "labels = model.predict(samples)\n",
    " \n",
    "print(labels)"
   ]
  },
  {
   "cell_type": "code",
   "execution_count": 17,
   "metadata": {},
   "outputs": [
    {
     "name": "stdout",
     "output_type": "stream",
     "text": [
      "[[5.7 4.4 1.5 0.4]\n",
      " [6.5 3.  5.5 0.4]\n",
      " [5.8 2.7 5.1 1.9]]\n"
     ]
    }
   ],
   "source": [
    "#To test the data\n",
    "new_samples = np.array([[5.7, 4.4, 1.5, 0.4],\n",
    "   [6.5, 3. , 5.5, 0.4],\n",
    "   [5.8, 2.7, 5.1, 1.9]])\n",
    "\n",
    "print(new_samples)"
   ]
  },
  {
   "cell_type": "code",
   "execution_count": 19,
   "metadata": {},
   "outputs": [
    {
     "name": "stdout",
     "output_type": "stream",
     "text": [
      "[1 0 0]\n"
     ]
    },
    {
     "data": {
      "image/png": "[encoded data removed]",
      "text/plain": [
       "<Figure size 432x288 with 1 Axes>"
      ]
     },
     "metadata": {
      "needs_background": "light"
     },
     "output_type": "display_data"
    }
   ],
   "source": [
    "new_labels = model.predict(new_samples)\n",
    " \n",
    "print(new_labels) \n",
    "# plot and Visualize\n",
    "x = samples[:,0]\n",
    "y = samples[:,1]\n",
    " \n",
    "plt.scatter(x, y, c=labels, alpha=0.5)\n",
    " \n",
    "plt.xlabel('sepal length (cm)')\n",
    "plt.ylabel('sepal width (cm)')\n",
    " \n",
    "plt.show()"
   ]
  },
  {
   "cell_type": "markdown",
   "metadata": {},
   "source": [
    "According to the metadata:\n",
    "\n",
    "All the 0‘s are Iris-setosa\n",
    "All the 1‘s are Iris-versicolor\n",
    "All the 2‘s are Iris-virginica\n",
    "Let’s change these values into the corresponding species using the following code:"
   ]
  },
  {
   "cell_type": "code",
   "execution_count": 21,
   "metadata": {},
   "outputs": [
    {
     "name": "stdout",
     "output_type": "stream",
     "text": [
      "     labels       species\n",
      "0         1     b'setosa'\n",
      "1         1     b'setosa'\n",
      "2         1     b'setosa'\n",
      "3         1     b'setosa'\n",
      "4         1     b'setosa'\n",
      "..      ...           ...\n",
      "145       2  b'virginica'\n",
      "146       0  b'virginica'\n",
      "147       2  b'virginica'\n",
      "148       2  b'virginica'\n",
      "149       0  b'virginica'\n",
      "\n",
      "[150 rows x 2 columns]\n",
      "species  b'setosa'  b'veriscolor'  b'virginica'\n",
      "labels                                         \n",
      "0                0             48            14\n",
      "1               50              0             0\n",
      "2                0              2            36\n"
     ]
    }
   ],
   "source": [
    "#evaluation\n",
    "#\n",
    "import pandas as pd\n",
    "\n",
    "target = iris.target\n",
    "\n",
    "species = np.chararray(target.shape, itemsize=150)\n",
    " \n",
    "for i in range(len(samples)):\n",
    "    if target[i] == 0:\n",
    "        species[i] = 'setosa'\n",
    "    elif target[i] == 1:\n",
    "        species[i] = 'veriscolor'\n",
    "    elif target[i] == 2: \n",
    "        species[i] = 'virginica'\n",
    "        \n",
    "df = pd.DataFrame({'labels': labels, 'species': species})\n",
    " \n",
    "print(df)\n",
    "\n",
    "#crosstab- allows to examine the relationships within the data that is not readily apparent\n",
    "\n",
    "ct = pd.crosstab(df['labels'], df['species'])\n",
    "print(ct)\n"
   ]
  },
  {
   "cell_type": "markdown",
   "metadata": {},
   "source": [
    "# How to know the number of clusters"
   ]
  },
  {
   "cell_type": "markdown",
   "metadata": {},
   "source": [
    "# from sklearn import datasets\n",
    "from sklearn.cluster import KMeans\n",
    "\n",
    "iris = datasets.load_iris()\n",
    "\n",
    "samples = iris.data\n",
    "\n",
    "num_clusters = list(range(1, 9))\n",
    "inertias = []\n",
    "\n",
    "for k in num_clusters:\n",
    "    model = KMeans(n_clusters=k)\n",
    "    model.fit(samples)\n",
    "    inertias.append(model.inertia_)\n",
    "\n",
    "plt.plot(num_clusters, inertias, '-o')\n",
    " \n",
    "plt.xlabel('Number of Clusters (k)')\n",
    "plt.ylabel('Inertia')\n",
    " \n",
    "plt.show()\n"
   ]
  },
  {
   "cell_type": "markdown",
   "metadata": {},
   "source": [
    "The goal is to have low inertia and the least number of clusters.\n",
    "\n",
    "One of the ways to interpret this graph is to use the elbow method: choose an “elbow” in the inertia plot - when inertia begins to decrease more slowly.\n",
    "\n",
    "In the graph above, 3 is the optimal number of clusters."
   ]
  },
  {
   "cell_type": "markdown",
   "metadata": {},
   "source": [
    "# Example-2"
   ]
  },
  {
   "cell_type": "code",
   "execution_count": 28,
   "metadata": {},
   "outputs": [],
   "source": [
    "digits = pd.read_csv(\"http://archive.ics.uci.edu/ml/machine-learning-databases/optdigits/optdigits.tra\", header=None)\n",
    "test_set = pd.read_csv(\"http://archive.ics.uci.edu/ml/machine-learning-databases/optdigits/optdigits.tes\", header=None)"
   ]
  },
  {
   "cell_type": "code",
   "execution_count": 29,
   "metadata": {},
   "outputs": [
    {
     "data": {
      "text/plain": [
       "(      0   1   2   3   4   5   6   7   8   9   ...  55  56  57  58  59  60  61  \\\n",
       " 0      0   1   6  15  12   1   0   0   0   7  ...   0   0   0   6  14   7   1   \n",
       " 1      0   0  10  16   6   0   0   0   0   7  ...   0   0   0  10  16  15   3   \n",
       " 2      0   0   8  15  16  13   0   0   0   1  ...   0   0   0   9  14   0   0   \n",
       " 3      0   0   0   3  11  16   0   0   0   0  ...   0   0   0   0   1  15   2   \n",
       " 4      0   0   5  14   4   0   0   0   0   0  ...   0   0   0   4  12  14   7   \n",
       " ...   ..  ..  ..  ..  ..  ..  ..  ..  ..  ..  ...  ..  ..  ..  ..  ..  ..  ..   \n",
       " 3818   0   0   5  13  11   2   0   0   0   2  ...   0   0   0   8  13  15  10   \n",
       " 3819   0   0   0   1  12   1   0   0   0   0  ...   0   0   0   0   4   9   0   \n",
       " 3820   0   0   3  15   0   0   0   0   0   0  ...   0   0   0   4  14  16   9   \n",
       " 3821   0   0   6  16   2   0   0   0   0   0  ...   0   0   0   5  16  16  16   \n",
       " 3822   0   0   2  15  16  13   1   0   0   0  ...   0   0   0   4  14   1   0   \n",
       " \n",
       "       62  63  64  \n",
       " 0      0   0   0  \n",
       " 1      0   0   0  \n",
       " 2      0   0   7  \n",
       " 3      0   0   4  \n",
       " 4      0   0   6  \n",
       " ...   ..  ..  ..  \n",
       " 3818   1   0   9  \n",
       " 3819   0   0   4  \n",
       " 3820   0   0   6  \n",
       " 3821   5   0   6  \n",
       " 3822   0   0   7  \n",
       " \n",
       " [3823 rows x 65 columns],\n",
       "       0   1   2   3   4   5   6   7   8   9   ...  55  56  57  58  59  60  61  \\\n",
       " 0      0   0   5  13   9   1   0   0   0   0  ...   0   0   0   6  13  10   0   \n",
       " 1      0   0   0  12  13   5   0   0   0   0  ...   0   0   0   0  11  16  10   \n",
       " 2      0   0   0   4  15  12   0   0   0   0  ...   0   0   0   0   3  11  16   \n",
       " 3      0   0   7  15  13   1   0   0   0   8  ...   0   0   0   7  13  13   9   \n",
       " 4      0   0   0   1  11   0   0   0   0   0  ...   0   0   0   0   2  16   4   \n",
       " ...   ..  ..  ..  ..  ..  ..  ..  ..  ..  ..  ...  ..  ..  ..  ..  ..  ..  ..   \n",
       " 1792   0   0   4  10  13   6   0   0   0   1  ...   0   0   0   2  14  15   9   \n",
       " 1793   0   0   6  16  13  11   1   0   0   0  ...   0   0   0   6  16  14   6   \n",
       " 1794   0   0   1  11  15   1   0   0   0   0  ...   0   0   0   2   9  13   6   \n",
       " 1795   0   0   2  10   7   0   0   0   0   0  ...   0   0   0   5  12  16  12   \n",
       " 1796   0   0  10  14   8   1   0   0   0   2  ...   0   0   1   8  12  14  12   \n",
       " \n",
       "       62  63  64  \n",
       " 0      0   0   0  \n",
       " 1      0   0   1  \n",
       " 2      9   0   2  \n",
       " 3      0   0   3  \n",
       " 4      0   0   4  \n",
       " ...   ..  ..  ..  \n",
       " 1792   0   0   9  \n",
       " 1793   0   0   0  \n",
       " 1794   0   0   8  \n",
       " 1795   0   0   9  \n",
       " 1796   1   0   8  \n",
       " \n",
       " [1797 rows x 65 columns])"
      ]
     },
     "execution_count": 29,
     "metadata": {},
     "output_type": "execute_result"
    }
   ],
   "source": [
    "digits, test_set"
   ]
  },
  {
   "cell_type": "code",
   "execution_count": 30,
   "metadata": {},
   "outputs": [
    {
     "data": {
      "image/png": "[encoded data removed]",
      "text/plain": [
       "<Figure size 432x288 with 1 Axes>"
      ]
     },
     "metadata": {
      "needs_background": "light"
     },
     "output_type": "display_data"
    }
   ],
   "source": [
    "samples = digits\n",
    "num_clusters = list(range(1, 50))\n",
    "inertias = []\n",
    "\n",
    "for k in num_clusters:\n",
    "    model = KMeans(n_clusters=k)\n",
    "    model.fit(samples)\n",
    "    inertias.append(model.inertia_)\n",
    "\n",
    "plt.plot(num_clusters, inertias, '-o')\n",
    " \n",
    "plt.xlabel('Number of Clusters (k)')\n",
    "plt.ylabel('Inertia')\n",
    " \n",
    "plt.show()\n"
   ]
  },
  {
   "cell_type": "code",
   "execution_count": 31,
   "metadata": {},
   "outputs": [
    {
     "name": "stdout",
     "output_type": "stream",
     "text": [
      "[ 5  5  2 ...  3  3 14]\n"
     ]
    }
   ],
   "source": [
    "model = KMeans(n_clusters=20)\n",
    " \n",
    "model.fit(samples)\n",
    " \n",
    "labels = model.predict(samples)\n",
    " \n",
    "print(labels)"
   ]
  },
  {
   "cell_type": "markdown",
   "metadata": {},
   "source": [
    "# Handwriting Recognition"
   ]
  },
  {
   "cell_type": "code",
   "execution_count": 33,
   "metadata": {},
   "outputs": [
    {
     "name": "stdout",
     "output_type": "stream",
     "text": [
      "{'data': array([[ 0.,  0.,  5., ...,  0.,  0.,  0.],\n",
      "       [ 0.,  0.,  0., ..., 10.,  0.,  0.],\n",
      "       [ 0.,  0.,  0., ..., 16.,  9.,  0.],\n",
      "       ...,\n",
      "       [ 0.,  0.,  1., ...,  6.,  0.,  0.],\n",
      "       [ 0.,  0.,  2., ..., 12.,  0.,  0.],\n",
      "       [ 0.,  0., 10., ..., 12.,  1.,  0.]]), 'target': array([0, 1, 2, ..., 8, 9, 8]), 'frame': None, 'feature_names': ['pixel_0_0', 'pixel_0_1', 'pixel_0_2', 'pixel_0_3', 'pixel_0_4', 'pixel_0_5', 'pixel_0_6', 'pixel_0_7', 'pixel_1_0', 'pixel_1_1', 'pixel_1_2', 'pixel_1_3', 'pixel_1_4', 'pixel_1_5', 'pixel_1_6', 'pixel_1_7', 'pixel_2_0', 'pixel_2_1', 'pixel_2_2', 'pixel_2_3', 'pixel_2_4', 'pixel_2_5', 'pixel_2_6', 'pixel_2_7', 'pixel_3_0', 'pixel_3_1', 'pixel_3_2', 'pixel_3_3', 'pixel_3_4', 'pixel_3_5', 'pixel_3_6', 'pixel_3_7', 'pixel_4_0', 'pixel_4_1', 'pixel_4_2', 'pixel_4_3', 'pixel_4_4', 'pixel_4_5', 'pixel_4_6', 'pixel_4_7', 'pixel_5_0', 'pixel_5_1', 'pixel_5_2', 'pixel_5_3', 'pixel_5_4', 'pixel_5_5', 'pixel_5_6', 'pixel_5_7', 'pixel_6_0', 'pixel_6_1', 'pixel_6_2', 'pixel_6_3', 'pixel_6_4', 'pixel_6_5', 'pixel_6_6', 'pixel_6_7', 'pixel_7_0', 'pixel_7_1', 'pixel_7_2', 'pixel_7_3', 'pixel_7_4', 'pixel_7_5', 'pixel_7_6', 'pixel_7_7'], 'target_names': array([0, 1, 2, 3, 4, 5, 6, 7, 8, 9]), 'images': array([[[ 0.,  0.,  5., ...,  1.,  0.,  0.],\n",
      "        [ 0.,  0., 13., ..., 15.,  5.,  0.],\n",
      "        [ 0.,  3., 15., ..., 11.,  8.,  0.],\n",
      "        ...,\n",
      "        [ 0.,  4., 11., ..., 12.,  7.,  0.],\n",
      "        [ 0.,  2., 14., ..., 12.,  0.,  0.],\n",
      "        [ 0.,  0.,  6., ...,  0.,  0.,  0.]],\n",
      "\n",
      "       [[ 0.,  0.,  0., ...,  5.,  0.,  0.],\n",
      "        [ 0.,  0.,  0., ...,  9.,  0.,  0.],\n",
      "        [ 0.,  0.,  3., ...,  6.,  0.,  0.],\n",
      "        ...,\n",
      "        [ 0.,  0.,  1., ...,  6.,  0.,  0.],\n",
      "        [ 0.,  0.,  1., ...,  6.,  0.,  0.],\n",
      "        [ 0.,  0.,  0., ..., 10.,  0.,  0.]],\n",
      "\n",
      "       [[ 0.,  0.,  0., ..., 12.,  0.,  0.],\n",
      "        [ 0.,  0.,  3., ..., 14.,  0.,  0.],\n",
      "        [ 0.,  0.,  8., ..., 16.,  0.,  0.],\n",
      "        ...,\n",
      "        [ 0.,  9., 16., ...,  0.,  0.,  0.],\n",
      "        [ 0.,  3., 13., ..., 11.,  5.,  0.],\n",
      "        [ 0.,  0.,  0., ..., 16.,  9.,  0.]],\n",
      "\n",
      "       ...,\n",
      "\n",
      "       [[ 0.,  0.,  1., ...,  1.,  0.,  0.],\n",
      "        [ 0.,  0., 13., ...,  2.,  1.,  0.],\n",
      "        [ 0.,  0., 16., ..., 16.,  5.,  0.],\n",
      "        ...,\n",
      "        [ 0.,  0., 16., ..., 15.,  0.,  0.],\n",
      "        [ 0.,  0., 15., ..., 16.,  0.,  0.],\n",
      "        [ 0.,  0.,  2., ...,  6.,  0.,  0.]],\n",
      "\n",
      "       [[ 0.,  0.,  2., ...,  0.,  0.,  0.],\n",
      "        [ 0.,  0., 14., ..., 15.,  1.,  0.],\n",
      "        [ 0.,  4., 16., ..., 16.,  7.,  0.],\n",
      "        ...,\n",
      "        [ 0.,  0.,  0., ..., 16.,  2.,  0.],\n",
      "        [ 0.,  0.,  4., ..., 16.,  2.,  0.],\n",
      "        [ 0.,  0.,  5., ..., 12.,  0.,  0.]],\n",
      "\n",
      "       [[ 0.,  0., 10., ...,  1.,  0.,  0.],\n",
      "        [ 0.,  2., 16., ...,  1.,  0.,  0.],\n",
      "        [ 0.,  0., 15., ..., 15.,  0.,  0.],\n",
      "        ...,\n",
      "        [ 0.,  4., 16., ..., 16.,  6.,  0.],\n",
      "        [ 0.,  8., 16., ..., 16.,  8.,  0.],\n",
      "        [ 0.,  1.,  8., ..., 12.,  1.,  0.]]]), 'DESCR': \".. _digits_dataset:\\n\\nOptical recognition of handwritten digits dataset\\n--------------------------------------------------\\n\\n**Data Set Characteristics:**\\n\\n    :Number of Instances: 5620\\n    :Number of Attributes: 64\\n    :Attribute Information: 8x8 image of integer pixels in the range 0..16.\\n    :Missing Attribute Values: None\\n    :Creator: E. Alpaydin (alpaydin '@' boun.edu.tr)\\n    :Date: July; 1998\\n\\nThis is a copy of the test set of the UCI ML hand-written digits datasets\\nhttps://archive.ics.uci.edu/ml/datasets/Optical+Recognition+of+Handwritten+Digits\\n\\nThe data set contains images of hand-written digits: 10 classes where\\neach class refers to a digit.\\n\\nPreprocessing programs made available by NIST were used to extract\\nnormalized bitmaps of handwritten digits from a preprinted form. From a\\ntotal of 43 people, 30 contributed to the training set and different 13\\nto the test set. 32x32 bitmaps are divided into nonoverlapping blocks of\\n4x4 and the number of on pixels are counted in each block. This generates\\nan input matrix of 8x8 where each element is an integer in the range\\n0..16. This reduces dimensionality and gives invariance to small\\ndistortions.\\n\\nFor info on NIST preprocessing routines, see M. D. Garris, J. L. Blue, G.\\nT. Candela, D. L. Dimmick, J. Geist, P. J. Grother, S. A. Janet, and C.\\nL. Wilson, NIST Form-Based Handprint Recognition System, NISTIR 5469,\\n1994.\\n\\n.. topic:: References\\n\\n  - C. Kaynak (1995) Methods of Combining Multiple Classifiers and Their\\n    Applications to Handwritten Digit Recognition, MSc Thesis, Institute of\\n    Graduate Studies in Science and Engineering, Bogazici University.\\n  - E. Alpaydin, C. Kaynak (1998) Cascading Classifiers, Kybernetika.\\n  - Ken Tang and Ponnuthurai N. Suganthan and Xi Yao and A. Kai Qin.\\n    Linear dimensionalityreduction using relevance weighted LDA. School of\\n    Electrical and Electronic Engineering Nanyang Technological University.\\n    2005.\\n  - Claudio Gentile. A New Approximate Maximal Margin Classification\\n    Algorithm. NIPS. 2000.\"}\n"
     ]
    }
   ],
   "source": [
    "import numpy as np\n",
    "from matplotlib import pyplot as plt\n",
    "from sklearn import datasets\n",
    " \n",
    "digits = datasets.load_digits()\n",
    "print(digits)"
   ]
  },
  {
   "cell_type": "code",
   "execution_count": 34,
   "metadata": {},
   "outputs": [
    {
     "name": "stdout",
     "output_type": "stream",
     "text": [
      ".. _digits_dataset:\n",
      "\n",
      "Optical recognition of handwritten digits dataset\n",
      "--------------------------------------------------\n",
      "\n",
      "**Data Set Characteristics:**\n",
      "\n",
      "    :Number of Instances: 5620\n",
      "    :Number of Attributes: 64\n",
      "    :Attribute Information: 8x8 image of integer pixels in the range 0..16.\n",
      "    :Missing Attribute Values: None\n",
      "    :Creator: E. Alpaydin (alpaydin '@' boun.edu.tr)\n",
      "    :Date: July; 1998\n",
      "\n",
      "This is a copy of the test set of the UCI ML hand-written digits datasets\n",
      "https://archive.ics.uci.edu/ml/datasets/Optical+Recognition+of+Handwritten+Digits\n",
      "\n",
      "The data set contains images of hand-written digits: 10 classes where\n",
      "each class refers to a digit.\n",
      "\n",
      "Preprocessing programs made available by NIST were used to extract\n",
      "normalized bitmaps of handwritten digits from a preprinted form. From a\n",
      "total of 43 people, 30 contributed to the training set and different 13\n",
      "to the test set. 32x32 bitmaps are divided into nonoverlapping blocks of\n",
      "4x4 and the number of on pixels are counted in each block. This generates\n",
      "an input matrix of 8x8 where each element is an integer in the range\n",
      "0..16. This reduces dimensionality and gives invariance to small\n",
      "distortions.\n",
      "\n",
      "For info on NIST preprocessing routines, see M. D. Garris, J. L. Blue, G.\n",
      "T. Candela, D. L. Dimmick, J. Geist, P. J. Grother, S. A. Janet, and C.\n",
      "L. Wilson, NIST Form-Based Handprint Recognition System, NISTIR 5469,\n",
      "1994.\n",
      "\n",
      ".. topic:: References\n",
      "\n",
      "  - C. Kaynak (1995) Methods of Combining Multiple Classifiers and Their\n",
      "    Applications to Handwritten Digit Recognition, MSc Thesis, Institute of\n",
      "    Graduate Studies in Science and Engineering, Bogazici University.\n",
      "  - E. Alpaydin, C. Kaynak (1998) Cascading Classifiers, Kybernetika.\n",
      "  - Ken Tang and Ponnuthurai N. Suganthan and Xi Yao and A. Kai Qin.\n",
      "    Linear dimensionalityreduction using relevance weighted LDA. School of\n",
      "    Electrical and Electronic Engineering Nanyang Technological University.\n",
      "    2005.\n",
      "  - Claudio Gentile. A New Approximate Maximal Margin Classification\n",
      "    Algorithm. NIPS. 2000.\n"
     ]
    }
   ],
   "source": [
    "print(digits.DESCR)"
   ]
  },
  {
   "cell_type": "code",
   "execution_count": 35,
   "metadata": {},
   "outputs": [
    {
     "name": "stdout",
     "output_type": "stream",
     "text": [
      "[[ 0.  0.  5. ...  0.  0.  0.]\n",
      " [ 0.  0.  0. ... 10.  0.  0.]\n",
      " [ 0.  0.  0. ... 16.  9.  0.]\n",
      " ...\n",
      " [ 0.  0.  1. ...  6.  0.  0.]\n",
      " [ 0.  0.  2. ... 12.  0.  0.]\n",
      " [ 0.  0. 10. ... 12.  1.  0.]]\n"
     ]
    }
   ],
   "source": [
    "print(digits.data)"
   ]
  },
  {
   "cell_type": "code",
   "execution_count": 36,
   "metadata": {},
   "outputs": [
    {
     "name": "stdout",
     "output_type": "stream",
     "text": [
      "[0 1 2 ... 8 9 8]\n"
     ]
    }
   ],
   "source": [
    "print(digits.target)"
   ]
  },
  {
   "cell_type": "code",
   "execution_count": 37,
   "metadata": {},
   "outputs": [
    {
     "data": {
      "image/png": "[encoded data removed]",
      "text/plain": [
       "<Figure size 432x432 with 64 Axes>"
      ]
     },
     "metadata": {},
     "output_type": "display_data"
    }
   ],
   "source": [
    "# Visualize the image\n",
    "\n",
    "# Figure size (width, height)\n",
    " \n",
    "fig = plt.figure(figsize=(6, 6))\n",
    " \n",
    "# Adjust the subplots \n",
    " \n",
    "fig.subplots_adjust(left=0, right=1, bottom=0, top=1, hspace=0.05, wspace=0.05)\n",
    " \n",
    "# For each of the 64 images\n",
    " \n",
    "for i in range(64):\n",
    " \n",
    "    # Initialize the subplots: add a subplot in the grid of 8 by 8, at the i+1-th position\n",
    " \n",
    "    ax = fig.add_subplot(8, 8, i+1, xticks=[], yticks=[])\n",
    " \n",
    "    # Display an image at the i-th position\n",
    " \n",
    "    ax.imshow(digits.images[i], cmap=plt.cm.binary, interpolation='nearest')\n",
    " \n",
    "    # Label the image with the target value\n",
    " \n",
    "    ax.text(0, 7, str(digits.target[i]))\n",
    " \n",
    "plt.show()"
   ]
  },
  {
   "cell_type": "code",
   "execution_count": 38,
   "metadata": {},
   "outputs": [],
   "source": [
    "from sklearn.cluster import KMeans"
   ]
  },
  {
   "cell_type": "code",
   "execution_count": 39,
   "metadata": {},
   "outputs": [
    {
     "data": {
      "text/plain": [
       "KMeans(n_clusters=10, random_state=42)"
      ]
     },
     "execution_count": 39,
     "metadata": {},
     "output_type": "execute_result"
    }
   ],
   "source": [
    "# because we have 10 digits,w e need n_cluster as 10\n",
    "model = KMeans(n_clusters=10, random_state=42)\n",
    "model.fit(digits.data)"
   ]
  },
  {
   "cell_type": "code",
   "execution_count": 40,
   "metadata": {},
   "outputs": [
    {
     "data": {
      "text/plain": [
       "Text(0.5, 0.98, 'Cluser Center Images')"
      ]
     },
     "execution_count": 40,
     "metadata": {},
     "output_type": "execute_result"
    },
    {
     "data": {
      "text/plain": [
       "<Figure size 576x216 with 0 Axes>"
      ]
     },
     "metadata": {},
     "output_type": "display_data"
    }
   ],
   "source": [
    "fig = plt.figure(figsize=(8, 3))\n",
    " \n",
    "fig.suptitle('Cluser Center Images', fontsize=14, fontweight='bold')"
   ]
  },
  {
   "cell_type": "code",
   "execution_count": 41,
   "metadata": {},
   "outputs": [],
   "source": [
    "for i in range(10):\n",
    " \n",
    "  # Initialize subplots in a grid of 2X5, at i+1th position\n",
    "  ax = fig.add_subplot(2, 5, 1 + i)\n",
    " \n",
    "  # Display images\n",
    "  ax.imshow(model.cluster_centers_[i].reshape((8, 8)), cmap=plt.cm.binary)\n",
    "plt.show()"
   ]
  },
  {
   "cell_type": "code",
   "execution_count": 43,
   "metadata": {},
   "outputs": [
    {
     "name": "stdout",
     "output_type": "stream",
     "text": [
      "[2 7 7 4]"
     ]
    }
   ],
   "source": [
    "#2221\n",
    "new_samples1 = np.array([\n",
    "[0.00,0.00,0.00,0.00,0.00,0.00,0.00,0.00,0.00,0.00,0.00,0.69,0.61,0.00,0.00,0.00,0.00,0.00,4.25,7.62,7.62,3.70,0.00,0.00,0.00,0.00,5.33,6.55,5.23,7.62,2.13,0.00,0.00,0.00,4.64,6.24,0.38,7.62,3.58,0.00,0.00,0.00,0.15,0.38,0.07,7.61,3.80,0.00,0.00,0.00,0.00,0.61,6.39,7.62,7.24,6.86,0.00,0.00,0.00,0.30,4.41,4.57,4.27,3.81],\n",
    "[0.00,0.00,0.00,0.00,0.00,0.00,0.00,0.00,1.14,2.29,2.29,1.22,0.00,0.00,0.00,0.00,7.47,7.62,7.62,7.62,6.63,3.80,0.00,0.00,6.77,0.99,1.37,3.04,6.63,7.62,3.79,0.00,6.63,0.45,0.00,0.00,0.15,5.63,6.85,0.00,7.54,7.01,4.49,2.51,2.73,6.78,5.86,0.00,1.52,4.95,7.23,7.62,7.62,6.78,1.73,0.00,0.00,0.00,0.22,0.76,0.76,0.15,0.00,0.00],\n",
    "[0.00,0.00,0.00,0.00,0.00,0.00,0.00,0.00,0.00,0.00,1.67,4.41,3.80,0.07,0.00,0.00,0.00,0.53,7.54,7.53,7.62,3.11,0.00,0.00,0.00,0.76,7.62,3.04,7.61,4.11,0.00,0.00,0.00,0.30,6.47,2.66,6.46,6.17,0.00,0.00,0.00,0.00,0.00,0.00,4.56,6.85,0.00,0.00,5.18,5.34,5.34,5.41,7.09,6.17,0.00,0.00,5.18,5.34,5.34,5.34,4.87,1.20,0.00,0.00],\n",
    "[0.00,0.00,0.00,0.00,0.00,0.00,0.00,0.00,0.00,0.00,0.00,0.00,0.00,0.00,0.00,0.00,0.00,0.00,0.00,4.57,5.33,0.00,0.00,0.00,0.00,0.00,0.00,5.33,6.10,0.00,0.00,0.00,0.00,0.00,0.00,5.33,6.10,0.00,0.00,0.00,0.00,0.00,0.00,5.33,6.10,0.00,0.00,0.00,0.00,0.00,0.00,5.33,6.09,0.00,0.00,0.00,0.00,0.00,0.00,2.97,3.50,0.00,0.00,0.00]\n",
    "])\n",
    "\n",
    "#2223\n",
    "new_samples2 = np.array([\n",
    "[0.00,5.72,7.55,6.64,7.62,4.35,0.00,0.00,0.00,1.68,1.37,0.08,6.10,6.10,0.00,0.00,0.00,0.00,0.08,3.74,7.55,5.03,0.00,0.00,0.00,0.00,4.96,7.62,5.26,0.46,0.00,0.00,0.00,1.14,7.62,4.50,0.00,0.00,0.00,0.00,0.00,2.90,7.62,4.80,3.81,3.81,3.36,0.08,0.00,4.80,7.55,6.86,6.86,6.86,6.41,0.38,0.00,0.23,0.53,0.00,0.00,0.00,0.00,0.00],\n",
    "[0.00,2.29,7.55,7.62,7.62,7.24,0.99,0.00,0.00,3.58,7.55,1.76,2.21,7.62,2.82,0.00,0.00,0.23,1.30,3.13,6.40,7.62,1.98,0.00,0.00,2.13,6.71,7.62,6.25,2.21,0.00,0.00,1.52,7.55,7.55,5.26,3.05,3.05,3.58,0.46,2.29,7.62,7.62,7.62,7.62,7.62,7.55,1.60,0.00,0.00,0.00,0.00,0.00,0.00,0.00,0.00,0.00,0.00,0.00,0.00,0.00,0.00,0.00,0.00],\n",
    "[1.98,7.40,7.40,7.40,7.48,3.97,0.00,0.00,0.76,3.74,0.84,1.14,5.65,7.32,0.69,0.00,0.00,0.00,0.00,0.00,1.52,7.55,3.97,0.00,0.00,0.00,0.00,0.00,0.23,7.09,4.58,0.00,0.00,0.15,1.30,3.74,6.94,7.63,2.44,0.00,3.05,7.09,7.62,7.62,7.62,7.47,6.86,4.73,4.04,6.86,6.33,5.34,4.65,4.57,4.04,2.29,0.00,0.00,0.00,0.00,0.00,0.00,0.00,0.00],\n",
    "[0.00,2.67,7.09,7.62,7.40,2.82,0.00,0.00,0.00,5.64,6.10,2.75,6.25,6.86,0.00,0.00,0.00,0.31,0.23,1.68,6.03,6.79,0.00,0.00,0.00,1.14,6.63,7.62,7.62,6.94,0.23,0.00,0.00,0.69,4.50,3.89,3.74,7.63,3.74,0.00,0.69,1.98,0.69,0.00,0.38,7.09,4.58,0.00,5.87,7.62,3.89,1.22,6.03,7.55,2.82,0.00,5.56,7.62,7.24,7.62,7.25,2.60,0.00,0.00]\n",
    "])\n",
    "\n",
    "new_labels = model.predict(new_samples2)\n",
    " \n",
    "print(new_labels, end='') \n"
   ]
  },
  {
   "cell_type": "code",
   "execution_count": null,
   "metadata": {},
   "outputs": [],
   "source": []
  }
 ],
 "metadata": {
  "kernelspec": {
   "display_name": "Python 3",
   "language": "python",
   "name": "python3"
  },
  "language_info": {
   "codemirror_mode": {
    "name": "ipython",
    "version": 3
   },
   "file_extension": ".py",
   "mimetype": "text/x-python",
   "name": "python",
   "nbconvert_exporter": "python",
   "pygments_lexer": "ipython3",
   "version": "3.8.5"
  }
 },
 "nbformat": 4,
 "nbformat_minor": 4
}
